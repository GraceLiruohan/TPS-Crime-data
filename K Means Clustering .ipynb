{
 "cells": [
  {
   "cell_type": "code",
   "execution_count": 1,
   "id": "cbb53df0",
   "metadata": {},
   "outputs": [
    {
     "data": {
      "text/html": [
       "<div>\n",
       "<style scoped>\n",
       "    .dataframe tbody tr th:only-of-type {\n",
       "        vertical-align: middle;\n",
       "    }\n",
       "\n",
       "    .dataframe tbody tr th {\n",
       "        vertical-align: top;\n",
       "    }\n",
       "\n",
       "    .dataframe thead th {\n",
       "        text-align: right;\n",
       "    }\n",
       "</style>\n",
       "<table border=\"1\" class=\"dataframe\">\n",
       "  <thead>\n",
       "    <tr style=\"text-align: right;\">\n",
       "      <th></th>\n",
       "      <th>Division2</th>\n",
       "      <th>Avg_NumOfCrimeByDivision</th>\n",
       "      <th>AREA_SQKM</th>\n",
       "      <th>Avg_CrimeRate_Per_SQKM_ByDiv</th>\n",
       "      <th>Avg_Expenditure</th>\n",
       "      <th>Avg_CrimeRateClearance_Div</th>\n",
       "      <th>Population_2016_Div</th>\n",
       "      <th>Pop_Density_SQKM</th>\n",
       "      <th>Avg_CrimePerCapita100K_Div</th>\n",
       "    </tr>\n",
       "  </thead>\n",
       "  <tbody>\n",
       "    <tr>\n",
       "      <th>0</th>\n",
       "      <td>11</td>\n",
       "      <td>322.888889</td>\n",
       "      <td>18.678458</td>\n",
       "      <td>17.286699</td>\n",
       "      <td>2.529024e+07</td>\n",
       "      <td>0.275404</td>\n",
       "      <td>212644</td>\n",
       "      <td>11384.451524</td>\n",
       "      <td>151.844815</td>\n",
       "    </tr>\n",
       "    <tr>\n",
       "      <th>1</th>\n",
       "      <td>12</td>\n",
       "      <td>223.666667</td>\n",
       "      <td>24.780343</td>\n",
       "      <td>9.025971</td>\n",
       "      <td>2.552967e+07</td>\n",
       "      <td>0.362685</td>\n",
       "      <td>185401</td>\n",
       "      <td>7481.776891</td>\n",
       "      <td>120.639407</td>\n",
       "    </tr>\n",
       "    <tr>\n",
       "      <th>2</th>\n",
       "      <td>13</td>\n",
       "      <td>292.555556</td>\n",
       "      <td>18.601911</td>\n",
       "      <td>15.727178</td>\n",
       "      <td>2.125158e+07</td>\n",
       "      <td>0.302116</td>\n",
       "      <td>159951</td>\n",
       "      <td>8598.632858</td>\n",
       "      <td>182.903236</td>\n",
       "    </tr>\n",
       "    <tr>\n",
       "      <th>3</th>\n",
       "      <td>14</td>\n",
       "      <td>592.111111</td>\n",
       "      <td>14.175254</td>\n",
       "      <td>41.770758</td>\n",
       "      <td>3.372836e+07</td>\n",
       "      <td>0.293869</td>\n",
       "      <td>117640</td>\n",
       "      <td>8298.969370</td>\n",
       "      <td>503.324644</td>\n",
       "    </tr>\n",
       "    <tr>\n",
       "      <th>4</th>\n",
       "      <td>22</td>\n",
       "      <td>453.333333</td>\n",
       "      <td>68.121884</td>\n",
       "      <td>6.654739</td>\n",
       "      <td>2.600482e+07</td>\n",
       "      <td>0.280615</td>\n",
       "      <td>213428</td>\n",
       "      <td>3133.031383</td>\n",
       "      <td>212.405745</td>\n",
       "    </tr>\n",
       "  </tbody>\n",
       "</table>\n",
       "</div>"
      ],
      "text/plain": [
       "   Division2  Avg_NumOfCrimeByDivision  AREA_SQKM  \\\n",
       "0         11                322.888889  18.678458   \n",
       "1         12                223.666667  24.780343   \n",
       "2         13                292.555556  18.601911   \n",
       "3         14                592.111111  14.175254   \n",
       "4         22                453.333333  68.121884   \n",
       "\n",
       "   Avg_CrimeRate_Per_SQKM_ByDiv  Avg_Expenditure  Avg_CrimeRateClearance_Div  \\\n",
       "0                     17.286699     2.529024e+07                    0.275404   \n",
       "1                      9.025971     2.552967e+07                    0.362685   \n",
       "2                     15.727178     2.125158e+07                    0.302116   \n",
       "3                     41.770758     3.372836e+07                    0.293869   \n",
       "4                      6.654739     2.600482e+07                    0.280615   \n",
       "\n",
       "   Population_2016_Div  Pop_Density_SQKM  Avg_CrimePerCapita100K_Div  \n",
       "0               212644      11384.451524                  151.844815  \n",
       "1               185401       7481.776891                  120.639407  \n",
       "2               159951       8598.632858                  182.903236  \n",
       "3               117640       8298.969370                  503.324644  \n",
       "4               213428       3133.031383                  212.405745  "
      ]
     },
     "execution_count": 1,
     "metadata": {},
     "output_type": "execute_result"
    }
   ],
   "source": [
    "#import pandas, then the data\n",
    "import pandas as pd\n",
    "data_path = ('Master_data.xlsx')\n",
    "data = pd.read_excel(data_path, sheet_name='Division_Cluster')\n",
    "data.head()"
   ]
  },
  {
   "cell_type": "code",
   "execution_count": 2,
   "id": "fcfd6b8d",
   "metadata": {},
   "outputs": [
    {
     "name": "stdout",
     "output_type": "stream",
     "text": [
      "<class 'pandas.core.frame.DataFrame'>\n",
      "RangeIndex: 16 entries, 0 to 15\n",
      "Data columns (total 9 columns):\n",
      " #   Column                        Non-Null Count  Dtype  \n",
      "---  ------                        --------------  -----  \n",
      " 0   Division2                     16 non-null     int64  \n",
      " 1   Avg_NumOfCrimeByDivision      16 non-null     float64\n",
      " 2   AREA_SQKM                     16 non-null     float64\n",
      " 3   Avg_CrimeRate_Per_SQKM_ByDiv  16 non-null     float64\n",
      " 4   Avg_Expenditure               16 non-null     float64\n",
      " 5   Avg_CrimeRateClearance_Div    16 non-null     float64\n",
      " 6   Population_2016_Div           16 non-null     int64  \n",
      " 7   Pop_Density_SQKM              16 non-null     float64\n",
      " 8   Avg_CrimePerCapita100K_Div    16 non-null     float64\n",
      "dtypes: float64(7), int64(2)\n",
      "memory usage: 1.2 KB\n"
     ]
    }
   ],
   "source": [
    "data.info()"
   ]
  },
  {
   "cell_type": "code",
   "execution_count": 4,
   "id": "f29f1053",
   "metadata": {},
   "outputs": [
    {
     "data": {
      "text/plain": [
       "11    1\n",
       "12    1\n",
       "13    1\n",
       "14    1\n",
       "22    1\n",
       "23    1\n",
       "31    1\n",
       "32    1\n",
       "33    1\n",
       "41    1\n",
       "42    1\n",
       "43    1\n",
       "51    1\n",
       "52    1\n",
       "53    1\n",
       "54    1\n",
       "Name: Division2, dtype: int64"
      ]
     },
     "execution_count": 4,
     "metadata": {},
     "output_type": "execute_result"
    }
   ],
   "source": [
    "data['Division2'].value_counts()"
   ]
  },
  {
   "cell_type": "code",
   "execution_count": 41,
   "id": "44cf8b47",
   "metadata": {},
   "outputs": [],
   "source": [
    "data_Kmeans =data[['Division2','Avg_Expenditure','Avg_CrimePerCapita100K_Div','Avg_CrimeRate_Per_SQKM_ByDiv','Pop_Density_SQKM','Avg_CrimeRateClearance_Div']]"
   ]
  },
  {
   "cell_type": "code",
   "execution_count": 6,
   "id": "88c05a9a",
   "metadata": {
    "scrolled": true
   },
   "outputs": [
    {
     "name": "stdout",
     "output_type": "stream",
     "text": [
      "<class 'pandas.core.frame.DataFrame'>\n",
      "RangeIndex: 16 entries, 0 to 15\n",
      "Data columns (total 6 columns):\n",
      " #   Column                        Non-Null Count  Dtype  \n",
      "---  ------                        --------------  -----  \n",
      " 0   Division2                     16 non-null     int64  \n",
      " 1   Avg_Expenditure               16 non-null     float64\n",
      " 2   Avg_CrimePerCapita100K_Div    16 non-null     float64\n",
      " 3   Avg_CrimeRate_Per_SQKM_ByDiv  16 non-null     float64\n",
      " 4   Pop_Density_SQKM              16 non-null     float64\n",
      " 5   Avg_CrimeRateClearance_Div    16 non-null     float64\n",
      "dtypes: float64(5), int64(1)\n",
      "memory usage: 896.0 bytes\n"
     ]
    }
   ],
   "source": [
    "data_Kmeans.info()"
   ]
  },
  {
   "cell_type": "code",
   "execution_count": 9,
   "id": "1b9cbe70",
   "metadata": {},
   "outputs": [
    {
     "data": {
      "image/png": "[encoded data removed]",
      "text/plain": [
       "<Figure size 432x288 with 1 Axes>"
      ]
     },
     "metadata": {
      "needs_background": "light"
     },
     "output_type": "display_data"
    }
   ],
   "source": [
    "# Step 1 and 2 - Choose the number of clusters (k) and select random centroid for each cluster\n",
    "\n",
    "#number of clusters\n",
    "K=3\n",
    "\n",
    "# Select random observation as centroids\n",
    "Centroids = (data_Kmeans.sample(n=K))\n",
    "plt.scatter(data_Kmeans[\"Avg_CrimeRate_Per_SQKM_ByDiv\"],data_Kmeans[\"Pop_Density_SQKM\"],c='black')\n",
    "plt.scatter(Centroids[\"Avg_CrimeRate_Per_SQKM_ByDiv\"],Centroids[\"Pop_Density_SQKM\"],c='red')\n",
    "plt.xlabel('CrimeRate')\n",
    "plt.ylabel('Pop Density')\n",
    "plt.show()"
   ]
  },
  {
   "cell_type": "code",
   "execution_count": 7,
   "id": "4967bc13",
   "metadata": {},
   "outputs": [],
   "source": [
    "import seaborn as sns\n",
    "import matplotlib.pyplot as plt\n",
    "%matplotlib inline"
   ]
  },
  {
   "cell_type": "code",
   "execution_count": 8,
   "id": "31b779c5",
   "metadata": {},
   "outputs": [],
   "source": [
    "from sklearn.cluster import KMeans"
   ]
  },
  {
   "cell_type": "code",
   "execution_count": 42,
   "id": "3870a894",
   "metadata": {},
   "outputs": [],
   "source": [
    "kmeans = KMeans(n_clusters=3)"
   ]
  },
  {
   "cell_type": "code",
   "execution_count": 43,
   "id": "3ce1eb19",
   "metadata": {},
   "outputs": [
    {
     "name": "stderr",
     "output_type": "stream",
     "text": [
      "C:\\Users\\zhaosha\\AppData\\Local\\Temp\\ipykernel_12900\\1610744811.py:7: SettingWithCopyWarning: \n",
      "A value is trying to be set on a copy of a slice from a DataFrame.\n",
      "Try using .loc[row_indexer,col_indexer] = value instead\n",
      "\n",
      "See the caveats in the documentation: https://pandas.pydata.org/pandas-docs/stable/user_guide/indexing.html#returning-a-view-versus-a-copy\n",
      "  data_Kmeans['cluster']= kmeans.fit_predict(data_Kmeans[['Avg_Expenditure','Avg_CrimeRate_Per_SQKM_ByDiv','Avg_CrimePerCapita100K_Div','Avg_CrimeRateClearance_Div']])\n"
     ]
    }
   ],
   "source": [
    "## predict the labels of clusters.\n",
    "#data_Kmeans['cluster']= kmeans.fit_predict(data_Kmeans[['Avg_Expenditure','Avg_CrimePerCapita100K_Div','Avg_CrimeRateClearance_Div']])\n",
    "\n",
    "#data_Kmeans['cluster']= kmeans.fit_predict(data_Kmeans[['Division2','Avg_Expenditure','Avg_CrimePerCapita100K_Div','Pop_Density_SQKM','Avg_CrimeRateClearance_Div']])\n",
    "\n",
    "#data_Kmeans['cluster']= kmeans.fit_predict(data_Kmeans[['Avg_Expenditure','Avg_CrimeRate_Per_SQKM_ByDiv','Avg_CrimeRateClearance_Div']])\n",
    "data_Kmeans['cluster']= kmeans.fit_predict(data_Kmeans[['Avg_Expenditure','Avg_CrimeRate_Per_SQKM_ByDiv','Avg_CrimePerCapita100K_Div','Avg_CrimeRateClearance_Div']])"
   ]
  },
  {
   "cell_type": "code",
   "execution_count": 44,
   "id": "b0e4d344",
   "metadata": {},
   "outputs": [
    {
     "name": "stdout",
     "output_type": "stream",
     "text": [
      "0     0\n",
      "1     0\n",
      "2     0\n",
      "3     1\n",
      "4     0\n",
      "5     1\n",
      "6     1\n",
      "7     1\n",
      "8     0\n",
      "9     1\n",
      "10    0\n",
      "11    1\n",
      "12    1\n",
      "13    1\n",
      "14    0\n",
      "15    2\n",
      "Name: cluster, dtype: int32\n"
     ]
    }
   ],
   "source": [
    "print(data_Kmeans['cluster'])"
   ]
  },
  {
   "cell_type": "code",
   "execution_count": 45,
   "id": "e27f238d",
   "metadata": {},
   "outputs": [
    {
     "data": {
      "text/plain": [
       "1    8\n",
       "0    7\n",
       "2    1\n",
       "Name: cluster, dtype: int64"
      ]
     },
     "execution_count": 45,
     "metadata": {},
     "output_type": "execute_result"
    }
   ],
   "source": [
    "data_Kmeans['cluster'].value_counts()"
   ]
  },
  {
   "cell_type": "code",
   "execution_count": 46,
   "id": "efe23342",
   "metadata": {},
   "outputs": [
    {
     "data": {
      "image/png": "[encoded data removed]",
      "text/plain": [
       "<Figure size 432x288 with 1 Axes>"
      ]
     },
     "metadata": {
      "needs_background": "light"
     },
     "output_type": "display_data"
    }
   ],
   "source": [
    "### Run PCA on the data and reduce the dimensions in pca_num_components dimensions\n",
    "from sklearn.decomposition import PCA\n",
    "\n",
    "pca_num_components = 2\n",
    "\n",
    "reduced_data = PCA(n_components=pca_num_components).fit_transform(data_Kmeans)\n",
    "results = pd.DataFrame(reduced_data,columns=['pca1','pca2'])\n",
    "\n",
    "sns.scatterplot(x=\"pca1\", y=\"pca2\",  hue=data_Kmeans['cluster'], data=results,palette=['green','orange','brown'], legend='full')\n",
    "#sns.scatterplot(x=\"pca1\", y=\"pca2\",  hue=data_Kmeans['cluster'], data=results,palette=['green','orange','brown','dodgerblue'], legend='full')\n",
    "\n",
    "plt.title('K-means Clustering with 2 dimensions')\n",
    "plt.show()"
   ]
  },
  {
   "cell_type": "code",
   "execution_count": 47,
   "id": "e92d7cf9",
   "metadata": {},
   "outputs": [
    {
     "data": {
      "text/plain": [
       "array([[2.38344908e+07, 1.11894971e+01, 2.03129741e+02, 2.44288310e-01],\n",
       "       [3.04640804e+07, 2.38970614e+01, 4.54386691e+02, 2.55882620e-01],\n",
       "       [4.47667602e+07, 1.54776849e+01, 3.39352144e+02, 2.88288288e-01]])"
      ]
     },
     "execution_count": 47,
     "metadata": {},
     "output_type": "execute_result"
    }
   ],
   "source": [
    "kmeans.cluster_centers_"
   ]
  },
  {
   "cell_type": "code",
   "execution_count": 48,
   "id": "90768295",
   "metadata": {
    "scrolled": false
   },
   "outputs": [
    {
     "data": {
      "text/plain": [
       "array([0, 0, 0, 1, 0, 1, 1, 1, 0, 1, 0, 1, 1, 1, 0, 2])"
      ]
     },
     "execution_count": 48,
     "metadata": {},
     "output_type": "execute_result"
    }
   ],
   "source": [
    "kmeans.labels_"
   ]
  },
  {
   "cell_type": "code",
   "execution_count": 49,
   "id": "404413f9",
   "metadata": {
    "scrolled": true
   },
   "outputs": [
    {
     "name": "stderr",
     "output_type": "stream",
     "text": [
      "C:\\Users\\zhaosha\\AppData\\Local\\Temp\\ipykernel_12900\\3917698616.py:3: FutureWarning: Indexing with multiple keys (implicitly converted to a tuple of keys) will be deprecated, use a list instead.\n",
      "  data_Kmeans.groupby(['cluster'])['Avg_Expenditure','Avg_CrimeRate_Per_SQKM_ByDiv','Avg_CrimePerCapita100K_Div','Avg_CrimeRateClearance_Div'].mean()\n"
     ]
    },
    {
     "data": {
      "text/html": [
       "<div>\n",
       "<style scoped>\n",
       "    .dataframe tbody tr th:only-of-type {\n",
       "        vertical-align: middle;\n",
       "    }\n",
       "\n",
       "    .dataframe tbody tr th {\n",
       "        vertical-align: top;\n",
       "    }\n",
       "\n",
       "    .dataframe thead th {\n",
       "        text-align: right;\n",
       "    }\n",
       "</style>\n",
       "<table border=\"1\" class=\"dataframe\">\n",
       "  <thead>\n",
       "    <tr style=\"text-align: right;\">\n",
       "      <th></th>\n",
       "      <th>Avg_Expenditure</th>\n",
       "      <th>Avg_CrimeRate_Per_SQKM_ByDiv</th>\n",
       "      <th>Avg_CrimePerCapita100K_Div</th>\n",
       "      <th>Avg_CrimeRateClearance_Div</th>\n",
       "    </tr>\n",
       "    <tr>\n",
       "      <th>cluster</th>\n",
       "      <th></th>\n",
       "      <th></th>\n",
       "      <th></th>\n",
       "      <th></th>\n",
       "    </tr>\n",
       "  </thead>\n",
       "  <tbody>\n",
       "    <tr>\n",
       "      <th>0</th>\n",
       "      <td>2.383449e+07</td>\n",
       "      <td>11.189497</td>\n",
       "      <td>203.129741</td>\n",
       "      <td>0.244288</td>\n",
       "    </tr>\n",
       "    <tr>\n",
       "      <th>1</th>\n",
       "      <td>3.046408e+07</td>\n",
       "      <td>23.897061</td>\n",
       "      <td>454.386691</td>\n",
       "      <td>0.255883</td>\n",
       "    </tr>\n",
       "    <tr>\n",
       "      <th>2</th>\n",
       "      <td>4.476676e+07</td>\n",
       "      <td>15.477685</td>\n",
       "      <td>339.352144</td>\n",
       "      <td>0.288288</td>\n",
       "    </tr>\n",
       "  </tbody>\n",
       "</table>\n",
       "</div>"
      ],
      "text/plain": [
       "         Avg_Expenditure  Avg_CrimeRate_Per_SQKM_ByDiv  \\\n",
       "cluster                                                  \n",
       "0           2.383449e+07                     11.189497   \n",
       "1           3.046408e+07                     23.897061   \n",
       "2           4.476676e+07                     15.477685   \n",
       "\n",
       "         Avg_CrimePerCapita100K_Div  Avg_CrimeRateClearance_Div  \n",
       "cluster                                                          \n",
       "0                        203.129741                    0.244288  \n",
       "1                        454.386691                    0.255883  \n",
       "2                        339.352144                    0.288288  "
      ]
     },
     "execution_count": 49,
     "metadata": {},
     "output_type": "execute_result"
    }
   ],
   "source": [
    "#data_Kmeans.groupby(['cluster'])['Avg_Expenditure','Avg_CrimePerCapita100K_Div','Avg_CrimeRateClearance_Div'].mean()\n",
    "\n",
    "data_Kmeans.groupby(['cluster'])['Avg_Expenditure','Avg_CrimeRate_Per_SQKM_ByDiv','Avg_CrimePerCapita100K_Div','Avg_CrimeRateClearance_Div'].mean()"
   ]
  },
  {
   "cell_type": "code",
   "execution_count": 50,
   "id": "6451a07e",
   "metadata": {},
   "outputs": [
    {
     "data": {
      "text/plain": [
       "cluster\n",
       "0        [11, 12, 13, 22, 33, 42, 53]\n",
       "1    [14, 23, 31, 32, 41, 43, 51, 52]\n",
       "2                                [54]\n",
       "Name: Division2, dtype: object"
      ]
     },
     "execution_count": 50,
     "metadata": {},
     "output_type": "execute_result"
    }
   ],
   "source": [
    "data_Kmeans.groupby(['cluster'])['Division2'].unique()"
   ]
  }
 ],
 "metadata": {
  "kernelspec": {
   "display_name": "Python 3 (ipykernel)",
   "language": "python",
   "name": "python3"
  },
  "language_info": {
   "codemirror_mode": {
    "name": "ipython",
    "version": 3
   },
   "file_extension": ".py",
   "mimetype": "text/x-python",
   "name": "python",
   "nbconvert_exporter": "python",
   "pygments_lexer": "ipython3",
   "version": "3.9.12"
  }
 },
 "nbformat": 4,
 "nbformat_minor": 5
}
